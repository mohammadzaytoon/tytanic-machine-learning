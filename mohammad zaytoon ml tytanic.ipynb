{
 "cells": [
  {
   "cell_type": "code",
   "execution_count": 1,
   "id": "40cb5250",
   "metadata": {},
   "outputs": [],
   "source": [
    "import pandas as pd\n",
    "from sklearn.preprocessing import LabelEncoder, StandardScaler\n",
    "from sklearn.model_selection import train_test_split\n",
    "from sklearn.ensemble import RandomForestClassifier\n",
    "from sklearn.svm import SVC\n",
    "from sklearn.metrics import accuracy_score, precision_score, recall_score"
   ]
  },
  {
   "cell_type": "code",
   "execution_count": 2,
   "id": "52a3139c",
   "metadata": {},
   "outputs": [
    {
     "data": {
      "text/html": [
       "<div>\n",
       "<style scoped>\n",
       "    .dataframe tbody tr th:only-of-type {\n",
       "        vertical-align: middle;\n",
       "    }\n",
       "\n",
       "    .dataframe tbody tr th {\n",
       "        vertical-align: top;\n",
       "    }\n",
       "\n",
       "    .dataframe thead th {\n",
       "        text-align: right;\n",
       "    }\n",
       "</style>\n",
       "<table border=\"1\" class=\"dataframe\">\n",
       "  <thead>\n",
       "    <tr style=\"text-align: right;\">\n",
       "      <th></th>\n",
       "      <th>PassengerId</th>\n",
       "      <th>Survived</th>\n",
       "      <th>Pclass</th>\n",
       "      <th>Name</th>\n",
       "      <th>Sex</th>\n",
       "      <th>Age</th>\n",
       "      <th>SibSp</th>\n",
       "      <th>Parch</th>\n",
       "      <th>Ticket</th>\n",
       "      <th>Fare</th>\n",
       "      <th>Cabin</th>\n",
       "      <th>Embarked</th>\n",
       "    </tr>\n",
       "  </thead>\n",
       "  <tbody>\n",
       "    <tr>\n",
       "      <th>0</th>\n",
       "      <td>1</td>\n",
       "      <td>0</td>\n",
       "      <td>3</td>\n",
       "      <td>Braund, Mr. Owen Harris</td>\n",
       "      <td>male</td>\n",
       "      <td>22.0</td>\n",
       "      <td>1</td>\n",
       "      <td>0</td>\n",
       "      <td>A/5 21171</td>\n",
       "      <td>7.2500</td>\n",
       "      <td>NaN</td>\n",
       "      <td>S</td>\n",
       "    </tr>\n",
       "    <tr>\n",
       "      <th>1</th>\n",
       "      <td>2</td>\n",
       "      <td>1</td>\n",
       "      <td>1</td>\n",
       "      <td>Cumings, Mrs. John Bradley (Florence Briggs Th...</td>\n",
       "      <td>female</td>\n",
       "      <td>38.0</td>\n",
       "      <td>1</td>\n",
       "      <td>0</td>\n",
       "      <td>PC 17599</td>\n",
       "      <td>71.2833</td>\n",
       "      <td>C85</td>\n",
       "      <td>C</td>\n",
       "    </tr>\n",
       "    <tr>\n",
       "      <th>2</th>\n",
       "      <td>3</td>\n",
       "      <td>1</td>\n",
       "      <td>3</td>\n",
       "      <td>Heikkinen, Miss. Laina</td>\n",
       "      <td>female</td>\n",
       "      <td>26.0</td>\n",
       "      <td>0</td>\n",
       "      <td>0</td>\n",
       "      <td>STON/O2. 3101282</td>\n",
       "      <td>7.9250</td>\n",
       "      <td>NaN</td>\n",
       "      <td>S</td>\n",
       "    </tr>\n",
       "    <tr>\n",
       "      <th>3</th>\n",
       "      <td>4</td>\n",
       "      <td>1</td>\n",
       "      <td>1</td>\n",
       "      <td>Futrelle, Mrs. Jacques Heath (Lily May Peel)</td>\n",
       "      <td>female</td>\n",
       "      <td>35.0</td>\n",
       "      <td>1</td>\n",
       "      <td>0</td>\n",
       "      <td>113803</td>\n",
       "      <td>53.1000</td>\n",
       "      <td>C123</td>\n",
       "      <td>S</td>\n",
       "    </tr>\n",
       "    <tr>\n",
       "      <th>4</th>\n",
       "      <td>5</td>\n",
       "      <td>0</td>\n",
       "      <td>3</td>\n",
       "      <td>Allen, Mr. William Henry</td>\n",
       "      <td>male</td>\n",
       "      <td>35.0</td>\n",
       "      <td>0</td>\n",
       "      <td>0</td>\n",
       "      <td>373450</td>\n",
       "      <td>8.0500</td>\n",
       "      <td>NaN</td>\n",
       "      <td>S</td>\n",
       "    </tr>\n",
       "  </tbody>\n",
       "</table>\n",
       "</div>"
      ],
      "text/plain": [
       "   PassengerId  Survived  Pclass  \\\n",
       "0            1         0       3   \n",
       "1            2         1       1   \n",
       "2            3         1       3   \n",
       "3            4         1       1   \n",
       "4            5         0       3   \n",
       "\n",
       "                                                Name     Sex   Age  SibSp  \\\n",
       "0                            Braund, Mr. Owen Harris    male  22.0      1   \n",
       "1  Cumings, Mrs. John Bradley (Florence Briggs Th...  female  38.0      1   \n",
       "2                             Heikkinen, Miss. Laina  female  26.0      0   \n",
       "3       Futrelle, Mrs. Jacques Heath (Lily May Peel)  female  35.0      1   \n",
       "4                           Allen, Mr. William Henry    male  35.0      0   \n",
       "\n",
       "   Parch            Ticket     Fare Cabin Embarked  \n",
       "0      0         A/5 21171   7.2500   NaN        S  \n",
       "1      0          PC 17599  71.2833   C85        C  \n",
       "2      0  STON/O2. 3101282   7.9250   NaN        S  \n",
       "3      0            113803  53.1000  C123        S  \n",
       "4      0            373450   8.0500   NaN        S  "
      ]
     },
     "execution_count": 2,
     "metadata": {},
     "output_type": "execute_result"
    }
   ],
   "source": [
    "\n",
    "train_data = pd.read_csv('C:\\\\Users\\\\moro\\Desktop\\\\train.csv')\n",
    "train_data.head() \n",
    "# we didn't use test_data because it didn't have the y_test (survived) \n"
   ]
  },
  {
   "cell_type": "code",
   "execution_count": 3,
   "id": "e841e508",
   "metadata": {},
   "outputs": [
    {
     "data": {
      "text/plain": [
       "PassengerId      0\n",
       "Survived         0\n",
       "Pclass           0\n",
       "Name             0\n",
       "Sex              0\n",
       "Age            177\n",
       "SibSp            0\n",
       "Parch            0\n",
       "Ticket           0\n",
       "Fare             0\n",
       "Cabin          687\n",
       "Embarked         2\n",
       "dtype: int64"
      ]
     },
     "execution_count": 3,
     "metadata": {},
     "output_type": "execute_result"
    }
   ],
   "source": [
    "train_data.isna().sum()"
   ]
  },
  {
   "cell_type": "code",
   "execution_count": 4,
   "id": "41710f6e",
   "metadata": {},
   "outputs": [],
   "source": [
    "train_data['Age'].fillna(train_data['Age'].median(), inplace=True)\n",
    "train_data['Embarked'].fillna(train_data['Embarked'].mode()[0], inplace=True)\n",
    "train_data.drop(columns=['Cabin'], inplace=True)  #  حذفنا cabin لانو عم يحتوي على كثير من القيم المفقودة "
   ]
  },
  {
   "cell_type": "code",
   "execution_count": 5,
   "id": "52e24dd5",
   "metadata": {},
   "outputs": [
    {
     "data": {
      "text/plain": [
       "PassengerId    0\n",
       "Survived       0\n",
       "Pclass         0\n",
       "Name           0\n",
       "Sex            0\n",
       "Age            0\n",
       "SibSp          0\n",
       "Parch          0\n",
       "Ticket         0\n",
       "Fare           0\n",
       "Embarked       0\n",
       "dtype: int64"
      ]
     },
     "execution_count": 5,
     "metadata": {},
     "output_type": "execute_result"
    }
   ],
   "source": [
    "train_data.isna().sum()"
   ]
  },
  {
   "cell_type": "code",
   "execution_count": 6,
   "id": "2ea84893",
   "metadata": {},
   "outputs": [],
   "source": [
    "scaler = StandardScaler()\n",
    "train_data[['Age', 'Fare']] = scaler.fit_transform(train_data[['Age', 'Fare']])"
   ]
  },
  {
   "cell_type": "code",
   "execution_count": 7,
   "id": "2d38b507",
   "metadata": {},
   "outputs": [
    {
     "name": "stdout",
     "output_type": "stream",
     "text": [
      "Number of duplicated rows: 0\n"
     ]
    }
   ],
   "source": [
    "num_duplicates = train_data.duplicated().sum()\n",
    "print(f\"Number of duplicated rows: {num_duplicates}\")\n",
    "# إزالة البيانات المكررة\n"
   ]
  },
  {
   "cell_type": "code",
   "execution_count": 8,
   "id": "fb99dc52",
   "metadata": {},
   "outputs": [
    {
     "data": {
      "text/html": [
       "<div>\n",
       "<style scoped>\n",
       "    .dataframe tbody tr th:only-of-type {\n",
       "        vertical-align: middle;\n",
       "    }\n",
       "\n",
       "    .dataframe tbody tr th {\n",
       "        vertical-align: top;\n",
       "    }\n",
       "\n",
       "    .dataframe thead th {\n",
       "        text-align: right;\n",
       "    }\n",
       "</style>\n",
       "<table border=\"1\" class=\"dataframe\">\n",
       "  <thead>\n",
       "    <tr style=\"text-align: right;\">\n",
       "      <th></th>\n",
       "      <th>PassengerId</th>\n",
       "      <th>Survived</th>\n",
       "      <th>Pclass</th>\n",
       "      <th>Name</th>\n",
       "      <th>Sex</th>\n",
       "      <th>Age</th>\n",
       "      <th>SibSp</th>\n",
       "      <th>Parch</th>\n",
       "      <th>Ticket</th>\n",
       "      <th>Fare</th>\n",
       "      <th>Embarked_Q</th>\n",
       "      <th>Embarked_S</th>\n",
       "    </tr>\n",
       "  </thead>\n",
       "  <tbody>\n",
       "    <tr>\n",
       "      <th>0</th>\n",
       "      <td>1</td>\n",
       "      <td>0</td>\n",
       "      <td>3</td>\n",
       "      <td>Braund, Mr. Owen Harris</td>\n",
       "      <td>1</td>\n",
       "      <td>-0.565736</td>\n",
       "      <td>1</td>\n",
       "      <td>0</td>\n",
       "      <td>A/5 21171</td>\n",
       "      <td>-0.502445</td>\n",
       "      <td>0</td>\n",
       "      <td>1</td>\n",
       "    </tr>\n",
       "    <tr>\n",
       "      <th>1</th>\n",
       "      <td>2</td>\n",
       "      <td>1</td>\n",
       "      <td>1</td>\n",
       "      <td>Cumings, Mrs. John Bradley (Florence Briggs Th...</td>\n",
       "      <td>0</td>\n",
       "      <td>0.663861</td>\n",
       "      <td>1</td>\n",
       "      <td>0</td>\n",
       "      <td>PC 17599</td>\n",
       "      <td>0.786845</td>\n",
       "      <td>0</td>\n",
       "      <td>0</td>\n",
       "    </tr>\n",
       "    <tr>\n",
       "      <th>2</th>\n",
       "      <td>3</td>\n",
       "      <td>1</td>\n",
       "      <td>3</td>\n",
       "      <td>Heikkinen, Miss. Laina</td>\n",
       "      <td>0</td>\n",
       "      <td>-0.258337</td>\n",
       "      <td>0</td>\n",
       "      <td>0</td>\n",
       "      <td>STON/O2. 3101282</td>\n",
       "      <td>-0.488854</td>\n",
       "      <td>0</td>\n",
       "      <td>1</td>\n",
       "    </tr>\n",
       "    <tr>\n",
       "      <th>3</th>\n",
       "      <td>4</td>\n",
       "      <td>1</td>\n",
       "      <td>1</td>\n",
       "      <td>Futrelle, Mrs. Jacques Heath (Lily May Peel)</td>\n",
       "      <td>0</td>\n",
       "      <td>0.433312</td>\n",
       "      <td>1</td>\n",
       "      <td>0</td>\n",
       "      <td>113803</td>\n",
       "      <td>0.420730</td>\n",
       "      <td>0</td>\n",
       "      <td>1</td>\n",
       "    </tr>\n",
       "    <tr>\n",
       "      <th>4</th>\n",
       "      <td>5</td>\n",
       "      <td>0</td>\n",
       "      <td>3</td>\n",
       "      <td>Allen, Mr. William Henry</td>\n",
       "      <td>1</td>\n",
       "      <td>0.433312</td>\n",
       "      <td>0</td>\n",
       "      <td>0</td>\n",
       "      <td>373450</td>\n",
       "      <td>-0.486337</td>\n",
       "      <td>0</td>\n",
       "      <td>1</td>\n",
       "    </tr>\n",
       "    <tr>\n",
       "      <th>...</th>\n",
       "      <td>...</td>\n",
       "      <td>...</td>\n",
       "      <td>...</td>\n",
       "      <td>...</td>\n",
       "      <td>...</td>\n",
       "      <td>...</td>\n",
       "      <td>...</td>\n",
       "      <td>...</td>\n",
       "      <td>...</td>\n",
       "      <td>...</td>\n",
       "      <td>...</td>\n",
       "      <td>...</td>\n",
       "    </tr>\n",
       "    <tr>\n",
       "      <th>886</th>\n",
       "      <td>887</td>\n",
       "      <td>0</td>\n",
       "      <td>2</td>\n",
       "      <td>Montvila, Rev. Juozas</td>\n",
       "      <td>1</td>\n",
       "      <td>-0.181487</td>\n",
       "      <td>0</td>\n",
       "      <td>0</td>\n",
       "      <td>211536</td>\n",
       "      <td>-0.386671</td>\n",
       "      <td>0</td>\n",
       "      <td>1</td>\n",
       "    </tr>\n",
       "    <tr>\n",
       "      <th>887</th>\n",
       "      <td>888</td>\n",
       "      <td>1</td>\n",
       "      <td>1</td>\n",
       "      <td>Graham, Miss. Margaret Edith</td>\n",
       "      <td>0</td>\n",
       "      <td>-0.796286</td>\n",
       "      <td>0</td>\n",
       "      <td>0</td>\n",
       "      <td>112053</td>\n",
       "      <td>-0.044381</td>\n",
       "      <td>0</td>\n",
       "      <td>1</td>\n",
       "    </tr>\n",
       "    <tr>\n",
       "      <th>888</th>\n",
       "      <td>889</td>\n",
       "      <td>0</td>\n",
       "      <td>3</td>\n",
       "      <td>Johnston, Miss. Catherine Helen \"Carrie\"</td>\n",
       "      <td>0</td>\n",
       "      <td>-0.104637</td>\n",
       "      <td>1</td>\n",
       "      <td>2</td>\n",
       "      <td>W./C. 6607</td>\n",
       "      <td>-0.176263</td>\n",
       "      <td>0</td>\n",
       "      <td>1</td>\n",
       "    </tr>\n",
       "    <tr>\n",
       "      <th>889</th>\n",
       "      <td>890</td>\n",
       "      <td>1</td>\n",
       "      <td>1</td>\n",
       "      <td>Behr, Mr. Karl Howell</td>\n",
       "      <td>1</td>\n",
       "      <td>-0.258337</td>\n",
       "      <td>0</td>\n",
       "      <td>0</td>\n",
       "      <td>111369</td>\n",
       "      <td>-0.044381</td>\n",
       "      <td>0</td>\n",
       "      <td>0</td>\n",
       "    </tr>\n",
       "    <tr>\n",
       "      <th>890</th>\n",
       "      <td>891</td>\n",
       "      <td>0</td>\n",
       "      <td>3</td>\n",
       "      <td>Dooley, Mr. Patrick</td>\n",
       "      <td>1</td>\n",
       "      <td>0.202762</td>\n",
       "      <td>0</td>\n",
       "      <td>0</td>\n",
       "      <td>370376</td>\n",
       "      <td>-0.492378</td>\n",
       "      <td>1</td>\n",
       "      <td>0</td>\n",
       "    </tr>\n",
       "  </tbody>\n",
       "</table>\n",
       "<p>891 rows × 12 columns</p>\n",
       "</div>"
      ],
      "text/plain": [
       "     PassengerId  Survived  Pclass  \\\n",
       "0              1         0       3   \n",
       "1              2         1       1   \n",
       "2              3         1       3   \n",
       "3              4         1       1   \n",
       "4              5         0       3   \n",
       "..           ...       ...     ...   \n",
       "886          887         0       2   \n",
       "887          888         1       1   \n",
       "888          889         0       3   \n",
       "889          890         1       1   \n",
       "890          891         0       3   \n",
       "\n",
       "                                                  Name  Sex       Age  SibSp  \\\n",
       "0                              Braund, Mr. Owen Harris    1 -0.565736      1   \n",
       "1    Cumings, Mrs. John Bradley (Florence Briggs Th...    0  0.663861      1   \n",
       "2                               Heikkinen, Miss. Laina    0 -0.258337      0   \n",
       "3         Futrelle, Mrs. Jacques Heath (Lily May Peel)    0  0.433312      1   \n",
       "4                             Allen, Mr. William Henry    1  0.433312      0   \n",
       "..                                                 ...  ...       ...    ...   \n",
       "886                              Montvila, Rev. Juozas    1 -0.181487      0   \n",
       "887                       Graham, Miss. Margaret Edith    0 -0.796286      0   \n",
       "888           Johnston, Miss. Catherine Helen \"Carrie\"    0 -0.104637      1   \n",
       "889                              Behr, Mr. Karl Howell    1 -0.258337      0   \n",
       "890                                Dooley, Mr. Patrick    1  0.202762      0   \n",
       "\n",
       "     Parch            Ticket      Fare  Embarked_Q  Embarked_S  \n",
       "0        0         A/5 21171 -0.502445           0           1  \n",
       "1        0          PC 17599  0.786845           0           0  \n",
       "2        0  STON/O2. 3101282 -0.488854           0           1  \n",
       "3        0            113803  0.420730           0           1  \n",
       "4        0            373450 -0.486337           0           1  \n",
       "..     ...               ...       ...         ...         ...  \n",
       "886      0            211536 -0.386671           0           1  \n",
       "887      0            112053 -0.044381           0           1  \n",
       "888      2        W./C. 6607 -0.176263           0           1  \n",
       "889      0            111369 -0.044381           0           0  \n",
       "890      0            370376 -0.492378           1           0  \n",
       "\n",
       "[891 rows x 12 columns]"
      ]
     },
     "execution_count": 8,
     "metadata": {},
     "output_type": "execute_result"
    }
   ],
   "source": [
    "\n",
    "\n",
    "# تحويل البيانات الفئوية إلى أرقام\n",
    "label_encoder = LabelEncoder()\n",
    "train_data = pd.get_dummies(train_data, columns=['Embarked'], drop_first=True)\n",
    "train_data['Sex'] = label_encoder.fit_transform(train_data['Sex'])\n",
    "\n",
    "train_data\n"
   ]
  },
  {
   "cell_type": "code",
   "execution_count": 9,
   "id": "b0075631",
   "metadata": {},
   "outputs": [
    {
     "name": "stdout",
     "output_type": "stream",
     "text": [
      "\n",
      "Distribution of the target variable (Survived):\n",
      "0    549\n",
      "1    342\n",
      "Name: Survived, dtype: int64\n",
      "RandomForest - Precision: 0.7746478873239436, Recall: 0.7432432432432432\n",
      "SVC - Precision: 0.7536231884057971, Recall: 0.7027027027027027\n",
      "RandomForest - Train Accuracy: 0.9789325842696629, Validation Accuracy: 0.8044692737430168\n",
      "SVC - Train Accuracy: 0.7879213483146067, Validation Accuracy: 0.7821229050279329\n"
     ]
    }
   ],
   "source": [
    "\n",
    "# فصل البيانات إلى x  و  y \n",
    "X = train_data.drop(columns=['Survived', 'Name', 'Ticket', 'PassengerId'])\n",
    "y = train_data['Survived']\n",
    "\n",
    "class_distribution = y.value_counts()\n",
    "print(\"\\nDistribution of the target variable (Survived):\")\n",
    "print(class_distribution)\n",
    "\n",
    "# test and train \n",
    "X_train, X_val, y_train, y_val = train_test_split(X, y, test_size=0.2, random_state=42)\n",
    "rf_model = RandomForestClassifier(n_estimators=100, random_state=42)\n",
    "rf_model.fit(X_train, y_train)\n",
    "y_train_pred_rf = rf_model.predict(X_train)\n",
    "y_val_pred_rf = rf_model.predict(X_val)\n",
    "\n",
    "# تجربة النموذج الثاني: SVC\n",
    "svc_model = SVC(kernel='linear', random_state=42)\n",
    "svc_model.fit(X_train, y_train)\n",
    "y_train_pred_svc = svc_model.predict(X_train)\n",
    "y_val_pred_svc = svc_model.predict(X_val)\n",
    "\n",
    "# تقييم النماذج باستخدام دقة الاسترجاع\n",
    "precision_rf = precision_score(y_val, y_val_pred_rf)\n",
    "recall_rf = recall_score(y_val, y_val_pred_rf)\n",
    "\n",
    "precision_svc = precision_score(y_val, y_val_pred_svc)\n",
    "recall_svc = recall_score(y_val, y_val_pred_svc)\n",
    "\n",
    "# حساب الدقة\n",
    "rf_train_accuracy = accuracy_score(y_train, y_train_pred_rf)\n",
    "rf_val_accuracy = accuracy_score(y_val, y_val_pred_rf)\n",
    "\n",
    "svc_train_accuracy = accuracy_score(y_train, y_train_pred_svc)\n",
    "svc_val_accuracy = accuracy_score(y_val, y_val_pred_svc)\n",
    "\n",
    "# عرض النتائج\n",
    "print(f'RandomForest - Precision: {precision_rf}, Recall: {recall_rf}')\n",
    "print(f'SVC - Precision: {precision_svc}, Recall: {recall_svc}')\n",
    "print(f\"RandomForest - Train Accuracy: {rf_train_accuracy}, Validation Accuracy: {rf_val_accuracy}\")\n",
    "print(f\"SVC - Train Accuracy: {svc_train_accuracy}, Validation Accuracy: {svc_val_accuracy}\")\n",
    "\n",
    "# persion must the fp be 0 # للبحث\n",
    "# recall must the fn be 0 #   طبية او حوادث"
   ]
  },
  {
   "cell_type": "code",
   "execution_count": 10,
   "id": "53e17bef",
   "metadata": {},
   "outputs": [
    {
     "name": "stdout",
     "output_type": "stream",
     "text": [
      "RandomForest - Train Accuracy: 0.8328651685393258, Validation Accuracy: 0.8100558659217877\n",
      "RandomForest - Precision: 0.8225806451612904, Recall: 0.6891891891891891\n"
     ]
    }
   ],
   "source": [
    "rf_model = RandomForestClassifier(n_estimators=10,\n",
    "                                  random_state=42,\n",
    "                                  max_depth=3,\n",
    "                                  min_samples_split=2,\n",
    "                                  min_samples_leaf=2)\n",
    "rf_model.fit(X_train, y_train)\n",
    "y_train_pred_rf = rf_model.predict(X_train)\n",
    "y_val_pred_rf = rf_model.predict(X_val)\n",
    "rf_train_accuracy = accuracy_score(y_train, y_train_pred_rf)\n",
    "rf_val_accuracy = accuracy_score(y_val, y_val_pred_rf)\n",
    "precision_rf = precision_score(y_val, y_val_pred_rf)\n",
    "recall_rf = recall_score(y_val, y_val_pred_rf)\n",
    "print(f\"RandomForest - Train Accuracy: {rf_train_accuracy}, Validation Accuracy: {rf_val_accuracy}\")\n",
    "print(f'RandomForest - Precision: {precision_rf}, Recall: {recall_rf}')"
   ]
  },
  {
   "cell_type": "code",
   "execution_count": 11,
   "id": "4d3f0ea5",
   "metadata": {},
   "outputs": [
    {
     "name": "stdout",
     "output_type": "stream",
     "text": [
      "SVC - Train Accuracy: 0.8356741573033708, Validation Accuracy: 0.8156424581005587\n",
      "SVC - Precision: 0.7536231884057971, Recall: 0.7027027027027027\n"
     ]
    }
   ],
   "source": [
    "svc_model = SVC(kernel='rbf',gamma=0.1, random_state=42)\n",
    "svc_model.fit(X_train, y_train)\n",
    "y_train_pred_svc = svc_model.predict(X_train)\n",
    "y_val_pred_svc = svc_model.predict(X_val)\n",
    "svc_train_accuracy = accuracy_score(y_train, y_train_pred_svc)\n",
    "svc_val_accuracy = accuracy_score(y_val, y_val_pred_svc)\n",
    "print(f\"SVC - Train Accuracy: {svc_train_accuracy}, Validation Accuracy: {svc_val_accuracy}\")\n",
    "print(f'SVC - Precision: {precision_svc}, Recall: {recall_svc}')\n"
   ]
  },
  {
   "cell_type": "code",
   "execution_count": 12,
   "id": "4f7fb2a1",
   "metadata": {},
   "outputs": [
    {
     "name": "stdout",
     "output_type": "stream",
     "text": [
      "SVC - Train Accuracy: 0.8412921348314607, Validation Accuracy: 0.8156424581005587\n",
      "SVC - Precision: 0.7536231884057971, Recall: 0.7027027027027027\n"
     ]
    }
   ],
   "source": [
    "svc_model = SVC(kernel='rbf',gamma=0.2, random_state=42)\n",
    "svc_model.fit(X_train, y_train)\n",
    "y_train_pred_svc = svc_model.predict(X_train)\n",
    "y_val_pred_svc = svc_model.predict(X_val)\n",
    "svc_train_accuracy = accuracy_score(y_train, y_train_pred_svc)\n",
    "svc_val_accuracy = accuracy_score(y_val, y_val_pred_svc)\n",
    "print(f\"SVC - Train Accuracy: {svc_train_accuracy}, Validation Accuracy: {svc_val_accuracy}\")\n",
    "print(f'SVC - Precision: {precision_svc}, Recall: {recall_svc}')\n"
   ]
  },
  {
   "cell_type": "code",
   "execution_count": 13,
   "id": "19799997",
   "metadata": {},
   "outputs": [
    {
     "name": "stdout",
     "output_type": "stream",
     "text": [
      "SVC - Train Accuracy: 0.8174157303370787, Validation Accuracy: 0.8044692737430168\n",
      "SVC - Precision: 0.7536231884057971, Recall: 0.7027027027027027\n"
     ]
    }
   ],
   "source": [
    "svc_model = SVC(kernel='poly',degree=2, random_state=42)\n",
    "svc_model.fit(X_train, y_train)\n",
    "y_train_pred_svc = svc_model.predict(X_train)\n",
    "y_val_pred_svc = svc_model.predict(X_val)\n",
    "svc_train_accuracy = accuracy_score(y_train, y_train_pred_svc)\n",
    "svc_val_accuracy = accuracy_score(y_val, y_val_pred_svc)\n",
    "print(f\"SVC - Train Accuracy: {svc_train_accuracy}, Validation Accuracy: {svc_val_accuracy}\")\n",
    "print(f'SVC - Precision: {precision_svc}, Recall: {recall_svc}')\n"
   ]
  },
  {
   "cell_type": "code",
   "execution_count": 14,
   "id": "14f9f7cc",
   "metadata": {},
   "outputs": [
    {
     "name": "stdout",
     "output_type": "stream",
     "text": [
      "SVC - Train Accuracy: 0.8202247191011236, Validation Accuracy: 0.8268156424581006\n",
      "SVC - Precision: 0.7536231884057971, Recall: 0.7027027027027027\n"
     ]
    }
   ],
   "source": [
    "svc_model = SVC(kernel='poly',degree=3, random_state=42)\n",
    "svc_model.fit(X_train, y_train)\n",
    "y_train_pred_svc = svc_model.predict(X_train)\n",
    "y_val_pred_svc = svc_model.predict(X_val)\n",
    "svc_train_accuracy = accuracy_score(y_train, y_train_pred_svc)\n",
    "svc_val_accuracy = accuracy_score(y_val, y_val_pred_svc)\n",
    "print(f\"SVC - Train Accuracy: {svc_train_accuracy}, Validation Accuracy: {svc_val_accuracy}\")\n",
    "print(f'SVC - Precision: {precision_svc}, Recall: {recall_svc}')\n"
   ]
  },
  {
   "cell_type": "code",
   "execution_count": 15,
   "id": "585291c7",
   "metadata": {
    "scrolled": true
   },
   "outputs": [
    {
     "name": "stdout",
     "output_type": "stream",
     "text": [
      "The best model is SVC\n"
     ]
    }
   ],
   "source": [
    "best_model = rf_model if recall_rf > recall_svc else svc_model\n",
    "best_model_name = 'RandomForest' if best_model == rf_model else 'SVC'\n",
    "print(f'The best model is {best_model_name}')\n"
   ]
  },
  {
   "cell_type": "code",
   "execution_count": 16,
   "id": "9bdea724",
   "metadata": {},
   "outputs": [
    {
     "name": "stdout",
     "output_type": "stream",
     "text": [
      "Cross-Validation Scores: [0.81564246 0.7752809  0.79775281 0.78651685 0.82022472]\n",
      "Mean CV Accuracy: 0.799083547799887\n",
      "Best Hyperparameters: {'max_depth': None, 'n_estimators': 200}\n",
      "Best CV Accuracy: 0.8350386039796623\n"
     ]
    }
   ],
   "source": [
    "from sklearn.model_selection import cross_val_score, GridSearchCV\n",
    "\n",
    "# cross val score\n",
    "cross_val_scores = cross_val_score(best_model, X, y, cv=5, scoring='accuracy')\n",
    "print(f'Cross-Validation Scores: {cross_val_scores}')\n",
    "print(f'Mean CV Accuracy: {cross_val_scores.mean()}')\n",
    "\n",
    "# تعديل المعاملات الفائقة باستخدام GridSearchCV\n",
    "param_grid = {\n",
    "    'n_estimators': [50, 100, 200],\n",
    "    'max_depth': [None, 10, 20, 30]\n",
    "}\n",
    "\n",
    "grid_search = GridSearchCV(rf_model, param_grid, cv=5, scoring='accuracy')\n",
    "grid_search.fit(X, y)\n",
    "print(f'Best Hyperparameters: {grid_search.best_params_}')\n",
    "print(f'Best CV Accuracy: {grid_search.best_score_}')\n"
   ]
  },
  {
   "cell_type": "code",
   "execution_count": 17,
   "id": "a9d4a351",
   "metadata": {},
   "outputs": [
    {
     "name": "stdout",
     "output_type": "stream",
     "text": [
      "Pipeline - Precision: 0.7857142857142857, Recall: 0.7432432432432432\n"
     ]
    }
   ],
   "source": [
    "from sklearn.pipeline import Pipeline\n",
    "from sklearn.impute import SimpleImputer\n",
    "\n",
    "pipeline = Pipeline([\n",
    "    ('imputer', SimpleImputer(strategy='median')),\n",
    "    ('scaler', StandardScaler()),\n",
    "    ('model', RandomForestClassifier(n_estimators=100, random_state=42))\n",
    "])\n",
    "\n",
    "pipeline.fit(X_train, y_train)\n",
    "y_pred_pipeline = pipeline.predict(X_val)\n",
    "\n",
    "# تقييم النموذج من خلال خط المعالجة\n",
    "precision_pipeline = precision_score(y_val, y_pred_pipeline)\n",
    "recall_pipeline = recall_score(y_val, y_pred_pipeline)\n",
    "\n",
    "print(f'Pipeline - Precision: {precision_pipeline}, Recall: {recall_pipeline}')\n"
   ]
  },
  {
   "cell_type": "code",
   "execution_count": null,
   "id": "75671000",
   "metadata": {},
   "outputs": [],
   "source": []
  },
  {
   "cell_type": "code",
   "execution_count": null,
   "id": "234c157e",
   "metadata": {},
   "outputs": [],
   "source": []
  }
 ],
 "metadata": {
  "kernelspec": {
   "display_name": "Python 3 (ipykernel)",
   "language": "python",
   "name": "python3"
  },
  "language_info": {
   "codemirror_mode": {
    "name": "ipython",
    "version": 3
   },
   "file_extension": ".py",
   "mimetype": "text/x-python",
   "name": "python",
   "nbconvert_exporter": "python",
   "pygments_lexer": "ipython3",
   "version": "3.11.5"
  }
 },
 "nbformat": 4,
 "nbformat_minor": 5
}
